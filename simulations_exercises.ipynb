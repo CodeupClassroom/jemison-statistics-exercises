{
 "cells": [
  {
   "cell_type": "code",
   "execution_count": 1,
   "id": "3e75b98c",
   "metadata": {},
   "outputs": [],
   "source": [
    "import numpy as np\n",
    "import pandas as pd"
   ]
  },
  {
   "cell_type": "code",
   "execution_count": 2,
   "id": "f54e6ae7",
   "metadata": {},
   "outputs": [],
   "source": [
    "np.random.seed(100)"
   ]
  },
  {
   "cell_type": "markdown",
   "id": "b672fd6b",
   "metadata": {},
   "source": [
    "### Exercise 1\n",
    "How likely is it that you roll doubles when rolling two dice?"
   ]
  },
  {
   "cell_type": "code",
   "execution_count": 3,
   "id": "4ac4d59c",
   "metadata": {},
   "outputs": [
    {
     "data": {
      "text/html": [
       "<div>\n",
       "<style scoped>\n",
       "    .dataframe tbody tr th:only-of-type {\n",
       "        vertical-align: middle;\n",
       "    }\n",
       "\n",
       "    .dataframe tbody tr th {\n",
       "        vertical-align: top;\n",
       "    }\n",
       "\n",
       "    .dataframe thead th {\n",
       "        text-align: right;\n",
       "    }\n",
       "</style>\n",
       "<table border=\"1\" class=\"dataframe\">\n",
       "  <thead>\n",
       "    <tr style=\"text-align: right;\">\n",
       "      <th></th>\n",
       "      <th>die1</th>\n",
       "      <th>die2</th>\n",
       "    </tr>\n",
       "  </thead>\n",
       "  <tbody>\n",
       "    <tr>\n",
       "      <th>0</th>\n",
       "      <td>1</td>\n",
       "      <td>1</td>\n",
       "    </tr>\n",
       "    <tr>\n",
       "      <th>1</th>\n",
       "      <td>4</td>\n",
       "      <td>1</td>\n",
       "    </tr>\n",
       "    <tr>\n",
       "      <th>2</th>\n",
       "      <td>3</td>\n",
       "      <td>5</td>\n",
       "    </tr>\n",
       "    <tr>\n",
       "      <th>3</th>\n",
       "      <td>3</td>\n",
       "      <td>6</td>\n",
       "    </tr>\n",
       "    <tr>\n",
       "      <th>4</th>\n",
       "      <td>3</td>\n",
       "      <td>3</td>\n",
       "    </tr>\n",
       "  </tbody>\n",
       "</table>\n",
       "</div>"
      ],
      "text/plain": [
       "   die1  die2\n",
       "0     1     1\n",
       "1     4     1\n",
       "2     3     5\n",
       "3     3     6\n",
       "4     3     3"
      ]
     },
     "execution_count": 3,
     "metadata": {},
     "output_type": "execute_result"
    }
   ],
   "source": [
    "n_rows = 10_0000\n",
    "n_cols = 2 # to represent rolling two dice per each simulation\n",
    "rolls = np.random.choice([1, 2, 3, 4, 5, 6], size=(n_rows, n_cols))\n",
    "rolls = pd.DataFrame(rolls, columns=[\"die1\", \"die2\"])\n",
    "rolls.head()"
   ]
  },
  {
   "cell_type": "code",
   "execution_count": 4,
   "id": "f605d4f2",
   "metadata": {},
   "outputs": [
    {
     "data": {
      "text/plain": [
       "0.16657"
      ]
     },
     "execution_count": 4,
     "metadata": {},
     "output_type": "execute_result"
    }
   ],
   "source": [
    "# How many outcomes from die match eachother?\n",
    "# What's the chance of rolling doubles\n",
    "(rolls.die1 == rolls.die2).mean()"
   ]
  },
  {
   "cell_type": "markdown",
   "id": "4acb5569",
   "metadata": {},
   "source": [
    "## Exercise 2\n",
    "\n",
    "If you flip 8 coins, what is the probability of getting exactly 3 heads? What is the probability of getting more than 3 heads?\n"
   ]
  },
  {
   "cell_type": "code",
   "execution_count": 5,
   "id": "0dba99ca",
   "metadata": {},
   "outputs": [],
   "source": [
    "n_rows = 10_000\n",
    "n_cols = 8 # for flipping 8 coins at once\n",
    "flips = np.random.choice([\"Heads\", \"Tails\"], size=(10_000, 8))\n",
    "flips = pd.DataFrame(flips)"
   ]
  },
  {
   "cell_type": "code",
   "execution_count": 7,
   "id": "92b3a189",
   "metadata": {},
   "outputs": [
    {
     "data": {
      "text/html": [
       "<div>\n",
       "<style scoped>\n",
       "    .dataframe tbody tr th:only-of-type {\n",
       "        vertical-align: middle;\n",
       "    }\n",
       "\n",
       "    .dataframe tbody tr th {\n",
       "        vertical-align: top;\n",
       "    }\n",
       "\n",
       "    .dataframe thead th {\n",
       "        text-align: right;\n",
       "    }\n",
       "</style>\n",
       "<table border=\"1\" class=\"dataframe\">\n",
       "  <thead>\n",
       "    <tr style=\"text-align: right;\">\n",
       "      <th></th>\n",
       "      <th>0</th>\n",
       "      <th>1</th>\n",
       "      <th>2</th>\n",
       "      <th>3</th>\n",
       "      <th>4</th>\n",
       "      <th>5</th>\n",
       "      <th>6</th>\n",
       "      <th>7</th>\n",
       "    </tr>\n",
       "  </thead>\n",
       "  <tbody>\n",
       "    <tr>\n",
       "      <th>0</th>\n",
       "      <td>False</td>\n",
       "      <td>True</td>\n",
       "      <td>True</td>\n",
       "      <td>True</td>\n",
       "      <td>True</td>\n",
       "      <td>False</td>\n",
       "      <td>False</td>\n",
       "      <td>False</td>\n",
       "    </tr>\n",
       "    <tr>\n",
       "      <th>1</th>\n",
       "      <td>False</td>\n",
       "      <td>True</td>\n",
       "      <td>False</td>\n",
       "      <td>True</td>\n",
       "      <td>True</td>\n",
       "      <td>True</td>\n",
       "      <td>True</td>\n",
       "      <td>True</td>\n",
       "    </tr>\n",
       "    <tr>\n",
       "      <th>2</th>\n",
       "      <td>False</td>\n",
       "      <td>False</td>\n",
       "      <td>True</td>\n",
       "      <td>False</td>\n",
       "      <td>False</td>\n",
       "      <td>False</td>\n",
       "      <td>False</td>\n",
       "      <td>True</td>\n",
       "    </tr>\n",
       "    <tr>\n",
       "      <th>3</th>\n",
       "      <td>False</td>\n",
       "      <td>False</td>\n",
       "      <td>False</td>\n",
       "      <td>False</td>\n",
       "      <td>False</td>\n",
       "      <td>False</td>\n",
       "      <td>False</td>\n",
       "      <td>True</td>\n",
       "    </tr>\n",
       "    <tr>\n",
       "      <th>4</th>\n",
       "      <td>False</td>\n",
       "      <td>False</td>\n",
       "      <td>True</td>\n",
       "      <td>False</td>\n",
       "      <td>True</td>\n",
       "      <td>False</td>\n",
       "      <td>True</td>\n",
       "      <td>True</td>\n",
       "    </tr>\n",
       "  </tbody>\n",
       "</table>\n",
       "</div>"
      ],
      "text/plain": [
       "       0      1      2      3      4      5      6      7\n",
       "0  False   True   True   True   True  False  False  False\n",
       "1  False   True  False   True   True   True   True   True\n",
       "2  False  False   True  False  False  False  False   True\n",
       "3  False  False  False  False  False  False  False   True\n",
       "4  False  False   True  False   True  False   True   True"
      ]
     },
     "execution_count": 7,
     "metadata": {},
     "output_type": "execute_result"
    }
   ],
   "source": [
    "(flips == \"Heads\").head()"
   ]
  },
  {
   "cell_type": "code",
   "execution_count": 8,
   "id": "0594c674",
   "metadata": {
    "scrolled": false
   },
   "outputs": [
    {
     "data": {
      "text/html": [
       "<div>\n",
       "<style scoped>\n",
       "    .dataframe tbody tr th:only-of-type {\n",
       "        vertical-align: middle;\n",
       "    }\n",
       "\n",
       "    .dataframe tbody tr th {\n",
       "        vertical-align: top;\n",
       "    }\n",
       "\n",
       "    .dataframe thead th {\n",
       "        text-align: right;\n",
       "    }\n",
       "</style>\n",
       "<table border=\"1\" class=\"dataframe\">\n",
       "  <thead>\n",
       "    <tr style=\"text-align: right;\">\n",
       "      <th></th>\n",
       "      <th>0</th>\n",
       "      <th>1</th>\n",
       "      <th>2</th>\n",
       "      <th>3</th>\n",
       "      <th>4</th>\n",
       "      <th>5</th>\n",
       "      <th>6</th>\n",
       "      <th>7</th>\n",
       "      <th>n_heads</th>\n",
       "    </tr>\n",
       "  </thead>\n",
       "  <tbody>\n",
       "    <tr>\n",
       "      <th>0</th>\n",
       "      <td>Tails</td>\n",
       "      <td>Heads</td>\n",
       "      <td>Heads</td>\n",
       "      <td>Heads</td>\n",
       "      <td>Heads</td>\n",
       "      <td>Tails</td>\n",
       "      <td>Tails</td>\n",
       "      <td>Tails</td>\n",
       "      <td>4</td>\n",
       "    </tr>\n",
       "    <tr>\n",
       "      <th>1</th>\n",
       "      <td>Tails</td>\n",
       "      <td>Heads</td>\n",
       "      <td>Tails</td>\n",
       "      <td>Heads</td>\n",
       "      <td>Heads</td>\n",
       "      <td>Heads</td>\n",
       "      <td>Heads</td>\n",
       "      <td>Heads</td>\n",
       "      <td>6</td>\n",
       "    </tr>\n",
       "    <tr>\n",
       "      <th>2</th>\n",
       "      <td>Tails</td>\n",
       "      <td>Tails</td>\n",
       "      <td>Heads</td>\n",
       "      <td>Tails</td>\n",
       "      <td>Tails</td>\n",
       "      <td>Tails</td>\n",
       "      <td>Tails</td>\n",
       "      <td>Heads</td>\n",
       "      <td>2</td>\n",
       "    </tr>\n",
       "    <tr>\n",
       "      <th>3</th>\n",
       "      <td>Tails</td>\n",
       "      <td>Tails</td>\n",
       "      <td>Tails</td>\n",
       "      <td>Tails</td>\n",
       "      <td>Tails</td>\n",
       "      <td>Tails</td>\n",
       "      <td>Tails</td>\n",
       "      <td>Heads</td>\n",
       "      <td>1</td>\n",
       "    </tr>\n",
       "    <tr>\n",
       "      <th>4</th>\n",
       "      <td>Tails</td>\n",
       "      <td>Tails</td>\n",
       "      <td>Heads</td>\n",
       "      <td>Tails</td>\n",
       "      <td>Heads</td>\n",
       "      <td>Tails</td>\n",
       "      <td>Heads</td>\n",
       "      <td>Heads</td>\n",
       "      <td>4</td>\n",
       "    </tr>\n",
       "  </tbody>\n",
       "</table>\n",
       "</div>"
      ],
      "text/plain": [
       "       0      1      2      3      4      5      6      7  n_heads\n",
       "0  Tails  Heads  Heads  Heads  Heads  Tails  Tails  Tails        4\n",
       "1  Tails  Heads  Tails  Heads  Heads  Heads  Heads  Heads        6\n",
       "2  Tails  Tails  Heads  Tails  Tails  Tails  Tails  Heads        2\n",
       "3  Tails  Tails  Tails  Tails  Tails  Tails  Tails  Heads        1\n",
       "4  Tails  Tails  Heads  Tails  Heads  Tails  Heads  Heads        4"
      ]
     },
     "execution_count": 8,
     "metadata": {},
     "output_type": "execute_result"
    }
   ],
   "source": [
    "flips[\"n_heads\"] = (flips == \"Heads\").sum(axis=1)\n",
    "flips.head()"
   ]
  },
  {
   "cell_type": "code",
   "execution_count": 9,
   "id": "8e4598a3",
   "metadata": {},
   "outputs": [
    {
     "data": {
      "text/plain": [
       "0.2164"
      ]
     },
     "execution_count": 9,
     "metadata": {},
     "output_type": "execute_result"
    }
   ],
   "source": [
    "# What's the probability of getting exactly 3 heads?\n",
    "(flips.n_heads == 3).mean()"
   ]
  },
  {
   "cell_type": "code",
   "execution_count": 10,
   "id": "d7e29843",
   "metadata": {},
   "outputs": [
    {
     "data": {
      "text/plain": [
       "0.6357"
      ]
     },
     "execution_count": 10,
     "metadata": {},
     "output_type": "execute_result"
    }
   ],
   "source": [
    "# What's the probability of getting more than 3 heads\n",
    "(flips.n_heads > 3).mean()"
   ]
  },
  {
   "cell_type": "markdown",
   "id": "bef2d4b9",
   "metadata": {},
   "source": [
    "## Exercise 3\n",
    "There are approximitely 3 web development cohorts for every 1 data science cohort at Codeup. Assuming that Codeup randomly selects an alumni to put on a billboard, what are the odds that the two billboards I drive past both have data science students on them?\n"
   ]
  },
  {
   "cell_type": "code",
   "execution_count": 11,
   "id": "a1f359c9",
   "metadata": {},
   "outputs": [],
   "source": [
    "n_rows = 10_000\n",
    "n_cols = 2 # for 2 billboards in a row\n",
    "\n",
    "billboards = np.random.choice([\"Web Development\", \"Data Science\"], p=[.75, .25], size=(n_rows, n_cols))\n",
    "billboards = pd.DataFrame(billboards)"
   ]
  },
  {
   "cell_type": "code",
   "execution_count": 12,
   "id": "60c5ad3f",
   "metadata": {},
   "outputs": [
    {
     "data": {
      "text/plain": [
       "0.0627"
      ]
     },
     "execution_count": 12,
     "metadata": {},
     "output_type": "execute_result"
    }
   ],
   "source": [
    "billboards[\"number_of_data_science\"] = (billboards == \"Data Science\").sum(axis=1)\n",
    "(billboards.number_of_data_science == 2).mean()"
   ]
  },
  {
   "cell_type": "markdown",
   "id": "2d470d89",
   "metadata": {},
   "source": [
    "## Exercise 4\n",
    "Codeup students buy, on average, 3 poptart packages with a standard deviation of 1.5 a day from the snack vending machine. If on monday the machine is restocked with 17 poptart packages, how likely is it that I will be able to buy some poptarts on Friday afternoon? (Remember, if you have mean and standard deviation, use the np.random.normal)"
   ]
  },
  {
   "cell_type": "code",
   "execution_count": 14,
   "id": "e1a654fd",
   "metadata": {},
   "outputs": [
    {
     "data": {
      "text/html": [
       "<div>\n",
       "<style scoped>\n",
       "    .dataframe tbody tr th:only-of-type {\n",
       "        vertical-align: middle;\n",
       "    }\n",
       "\n",
       "    .dataframe tbody tr th {\n",
       "        vertical-align: top;\n",
       "    }\n",
       "\n",
       "    .dataframe thead th {\n",
       "        text-align: right;\n",
       "    }\n",
       "</style>\n",
       "<table border=\"1\" class=\"dataframe\">\n",
       "  <thead>\n",
       "    <tr style=\"text-align: right;\">\n",
       "      <th></th>\n",
       "      <th>Mon</th>\n",
       "      <th>Tues</th>\n",
       "      <th>Wed</th>\n",
       "      <th>Thur</th>\n",
       "      <th>Fri</th>\n",
       "    </tr>\n",
       "  </thead>\n",
       "  <tbody>\n",
       "    <tr>\n",
       "      <th>0</th>\n",
       "      <td>5.0</td>\n",
       "      <td>3.0</td>\n",
       "      <td>5.0</td>\n",
       "      <td>1.0</td>\n",
       "      <td>3.0</td>\n",
       "    </tr>\n",
       "    <tr>\n",
       "      <th>1</th>\n",
       "      <td>5.0</td>\n",
       "      <td>3.0</td>\n",
       "      <td>4.0</td>\n",
       "      <td>3.0</td>\n",
       "      <td>3.0</td>\n",
       "    </tr>\n",
       "    <tr>\n",
       "      <th>2</th>\n",
       "      <td>3.0</td>\n",
       "      <td>2.0</td>\n",
       "      <td>2.0</td>\n",
       "      <td>1.0</td>\n",
       "      <td>3.0</td>\n",
       "    </tr>\n",
       "    <tr>\n",
       "      <th>3</th>\n",
       "      <td>1.0</td>\n",
       "      <td>3.0</td>\n",
       "      <td>2.0</td>\n",
       "      <td>2.0</td>\n",
       "      <td>8.0</td>\n",
       "    </tr>\n",
       "    <tr>\n",
       "      <th>4</th>\n",
       "      <td>4.0</td>\n",
       "      <td>1.0</td>\n",
       "      <td>2.0</td>\n",
       "      <td>3.0</td>\n",
       "      <td>4.0</td>\n",
       "    </tr>\n",
       "  </tbody>\n",
       "</table>\n",
       "</div>"
      ],
      "text/plain": [
       "   Mon  Tues  Wed  Thur  Fri\n",
       "0  5.0   3.0  5.0   1.0  3.0\n",
       "1  5.0   3.0  4.0   3.0  3.0\n",
       "2  3.0   2.0  2.0   1.0  3.0\n",
       "3  1.0   3.0  2.0   2.0  8.0\n",
       "4  4.0   1.0  2.0   3.0  4.0"
      ]
     },
     "execution_count": 14,
     "metadata": {},
     "output_type": "execute_result"
    }
   ],
   "source": [
    "n_rows = 10_000\n",
    "n_cols = 5 # to represent a 5 day week\n",
    "µ = 3\n",
    "σ = 1.5\n",
    "poptarts = np.random.normal(µ, σ, size=(n_rows, n_cols)).round()\n",
    "poptarts = pd.DataFrame(poptarts, columns=[\"Mon\", \"Tues\", \"Wed\", \"Thur\", \"Fri\"])\n",
    "poptarts.head()"
   ]
  },
  {
   "cell_type": "code",
   "execution_count": null,
   "id": "6af62e42",
   "metadata": {},
   "outputs": [],
   "source": [
    "poptarts[\"n_consumed\"] = poptarts.sum(axis=1)\n",
    "poptarts.head()"
   ]
  },
  {
   "cell_type": "code",
   "execution_count": null,
   "id": "8bd0de20",
   "metadata": {},
   "outputs": [],
   "source": [
    "# What's the chance we can buy poptarts on Friday afternoon\n",
    "# This setup would predicate \n",
    "(poptarts.n_consumed < 17).mean()"
   ]
  },
  {
   "cell_type": "markdown",
   "id": "6eb2e09b",
   "metadata": {},
   "source": [
    "## Exercise 5\n",
    "Compare Heights\n",
    "\n",
    "- Men have an average height of 178 cm and standard deviation of 8cm.\n",
    "- Women have a mean of 170, sd = 6cm.\n",
    "\n",
    "Since you have means and standard deviations, you can use np.random.normal to generate observations.\n",
    "\n",
    "- If a man and woman are chosen at random, what is the likelihood the woman is taller than the man?"
   ]
  },
  {
   "cell_type": "code",
   "execution_count": 17,
   "id": "193d8553",
   "metadata": {},
   "outputs": [
    {
     "data": {
      "text/plain": [
       "0.2089"
      ]
     },
     "execution_count": 17,
     "metadata": {},
     "output_type": "execute_result"
    }
   ],
   "source": [
    "m_heights = np.random.normal(178, 8, size=10_000)\n",
    "f_heights = np.random.normal(170, 6, size=10_000)\n",
    "(f_heights > m_heights).mean()"
   ]
  },
  {
   "cell_type": "markdown",
   "id": "1e63157b",
   "metadata": {},
   "source": [
    "## Exercise 6\n",
    "When installing anaconda on a student's computer, there's a 1 in 250 chance that the download is corrupted and the installation fails. \n",
    "\n",
    "- What are the odds that after having 50 students download anaconda, no one has an installation issue? \n",
    "\n",
    "- 100 students?\n",
    "\n",
    "- What is the probability that we observe an installation issue within the first 150 students that download anaconda?\n",
    "\n",
    "- How likely is it that 450 students all download anaconda without an issue?"
   ]
  },
  {
   "cell_type": "code",
   "execution_count": 18,
   "id": "8aa5cc3c",
   "metadata": {},
   "outputs": [
    {
     "data": {
      "text/plain": [
       "0.81969"
      ]
     },
     "execution_count": 18,
     "metadata": {},
     "output_type": "execute_result"
    }
   ],
   "source": [
    "# Probability of no install issues\n",
    "n_rows = 100_000\n",
    "n_columns = 50\n",
    "\n",
    "installs = np.random.choice([0, 1], p=[0.004, 0.996], size=(n_rows, n_columns))\n",
    "\n",
    "(installs.sum(axis=1) == 50).mean()"
   ]
  },
  {
   "cell_type": "code",
   "execution_count": 19,
   "id": "9a7e4133",
   "metadata": {},
   "outputs": [
    {
     "data": {
      "text/plain": [
       "0.66714"
      ]
     },
     "execution_count": 19,
     "metadata": {},
     "output_type": "execute_result"
    }
   ],
   "source": [
    "# Probability of no installs on 100 students?\n",
    "n_columns = 100\n",
    "\n",
    "installs = np.random.choice([0, 1], p=[0.004, 0.996], size=(n_rows, n_columns))\n",
    "\n",
    "(installs.sum(axis=1) == 100).mean()"
   ]
  },
  {
   "cell_type": "code",
   "execution_count": 20,
   "id": "f5136e17",
   "metadata": {},
   "outputs": [
    {
     "data": {
      "text/plain": [
       "0.5484"
      ]
     },
     "execution_count": 20,
     "metadata": {},
     "output_type": "execute_result"
    }
   ],
   "source": [
    "# What about 150 installs w/ no issues\n",
    "n_columns = 150\n",
    "\n",
    "installs = np.random.choice([0, 1], p=[0.004, 0.996], size=(n_rows, n_columns))\n",
    "\n",
    "(installs.sum(axis=1) == 150).mean()\n"
   ]
  },
  {
   "cell_type": "code",
   "execution_count": 22,
   "id": "6aa5bfce",
   "metadata": {},
   "outputs": [
    {
     "data": {
      "text/plain": [
       "0.16595"
      ]
     },
     "execution_count": 22,
     "metadata": {},
     "output_type": "execute_result"
    }
   ],
   "source": [
    "# What about 450 installs w/ no issues\n",
    "n_columns = 450\n",
    "\n",
    "installs = np.random.choice([0, 1], p=[0.004, 0.996], size=(n_rows, n_columns))\n",
    "\n",
    "(installs.sum(axis=1) == 450).mean()\n"
   ]
  },
  {
   "cell_type": "markdown",
   "id": "8d32f465",
   "metadata": {},
   "source": [
    "## Exercise 7\n",
    "There's a 70% chance on any given day that there will be at least one food truck at Travis Park. However, you haven't seen a food truck there in 3 days. How unlikely is this?\n",
    "How likely is it that a food truck will show up sometime this week?"
   ]
  },
  {
   "cell_type": "code",
   "execution_count": 23,
   "id": "502e675b",
   "metadata": {},
   "outputs": [],
   "source": [
    "n_rows = 10_000\n",
    "n_cols = 3 # to represent 3 days in a row\n",
    "\n",
    "trucks = np.random.choice([1, 0], size=(n_rows, n_cols), p=[0.7, 0.3])"
   ]
  },
  {
   "cell_type": "code",
   "execution_count": 24,
   "id": "87bc6ad9",
   "metadata": {},
   "outputs": [
    {
     "data": {
      "text/plain": [
       "0.025"
      ]
     },
     "execution_count": 24,
     "metadata": {},
     "output_type": "execute_result"
    }
   ],
   "source": [
    "# What's the probability of not seeing a food truck in 3 days?\n",
    "(trucks.sum(axis=1) == 0).mean()"
   ]
  },
  {
   "cell_type": "code",
   "execution_count": 25,
   "id": "4cc595ec",
   "metadata": {},
   "outputs": [
    {
     "data": {
      "text/plain": [
       "0.912"
      ]
     },
     "execution_count": 25,
     "metadata": {},
     "output_type": "execute_result"
    }
   ],
   "source": [
    "# What's the probability of seeing a food truck in the next 2 days?\n",
    "# Food truck presence (in this setup is independent)\n",
    "n_cols = 2 # to represent 2 days in a row\n",
    "\n",
    "trucks = np.random.choice([1, 0], size=(n_rows, n_cols), p=[0.7, 0.3])\n",
    "(trucks.sum(axis=1) > 0).mean()"
   ]
  },
  {
   "cell_type": "code",
   "execution_count": 26,
   "id": "e69baafe",
   "metadata": {},
   "outputs": [
    {
     "data": {
      "text/plain": [
       "0.9971"
      ]
     },
     "execution_count": 26,
     "metadata": {},
     "output_type": "execute_result"
    }
   ],
   "source": [
    "# What's the probability of seeing a food truck in the next 2 days?\n",
    "# Food truck presence (in this setup is independent)\n",
    "n_cols = 5 # to represent 2 days in a row\n",
    "\n",
    "trucks = np.random.choice([1, 0], size=(n_rows, n_cols), p=[0.7, 0.3])\n",
    "(trucks.sum(axis=1) > 0).mean()"
   ]
  },
  {
   "cell_type": "markdown",
   "id": "b15e6983",
   "metadata": {},
   "source": [
    "## Exercise 8\n",
    "If 23 people are in the same room, what are the odds that two of them share a birthday? What if it's 20 people? 40?\n"
   ]
  },
  {
   "cell_type": "code",
   "execution_count": 28,
   "id": "f61acafd",
   "metadata": {},
   "outputs": [
    {
     "data": {
      "text/plain": [
       "0.5004"
      ]
     },
     "execution_count": 28,
     "metadata": {},
     "output_type": "execute_result"
    }
   ],
   "source": [
    "n_rows = 10_000\n",
    "n_cols = 23 # to represent 23 individuals\n",
    "\n",
    "birthdays = np.random.choice(range(365), size=(n_rows, n_cols))\n",
    "birthdays = pd.DataFrame(birthdays)\n",
    "birthdays[\"n_unique\"] = birthdays.nunique(axis=1)\n",
    "\n",
    "# What's the proportion of rows where we have multiple shared days\n",
    "(birthdays.n_unique != 23).mean()"
   ]
  },
  {
   "cell_type": "code",
   "execution_count": 29,
   "id": "a5bfdc2b",
   "metadata": {},
   "outputs": [
    {
     "data": {
      "text/plain": [
       "0.4212"
      ]
     },
     "execution_count": 29,
     "metadata": {},
     "output_type": "execute_result"
    }
   ],
   "source": [
    "n_rows = 10_000\n",
    "n_cols = 20 # to represent 20 individuals\n",
    "\n",
    "birthdays = np.random.choice(range(365), size=(n_rows, n_cols))\n",
    "birthdays = pd.DataFrame(birthdays)\n",
    "birthdays[\"n_unique\"] = birthdays.nunique(axis=1)\n",
    "\n",
    "# What's the proportion of rows where we have multiple shared days\n",
    "(birthdays.n_unique != 20).mean()"
   ]
  },
  {
   "cell_type": "code",
   "execution_count": 30,
   "id": "803f3dc2",
   "metadata": {},
   "outputs": [
    {
     "data": {
      "text/plain": [
       "0.8848"
      ]
     },
     "execution_count": 30,
     "metadata": {},
     "output_type": "execute_result"
    }
   ],
   "source": [
    "n_rows = 10_000\n",
    "n_cols = 40 # to represent 40 individuals\n",
    "\n",
    "birthdays = np.random.choice(range(365), size=(n_rows, n_cols))\n",
    "birthdays = pd.DataFrame(birthdays)\n",
    "birthdays[\"n_unique\"] = birthdays.nunique(axis=1)\n",
    "\n",
    "# What's the proportion of rows where we have multiple shared days\n",
    "(birthdays.n_unique != 40).mean()"
   ]
  },
  {
   "cell_type": "markdown",
   "id": "10ce949c",
   "metadata": {},
   "source": [
    "## Let's Graph this one out!"
   ]
  },
  {
   "cell_type": "code",
   "execution_count": 31,
   "id": "2a045d5e",
   "metadata": {},
   "outputs": [],
   "source": [
    "# What if we have rooms of increasing size\n",
    "\n",
    "x = range(1, 100)\n",
    "\n",
    "# N will be a list of N for each room size\n",
    "N = [n * (n-1) / 2 for n in x]\n",
    "\n",
    "# Get the probability for each N\n",
    "y = [1 - (364/365)**n for n in N]"
   ]
  },
  {
   "cell_type": "code",
   "execution_count": 32,
   "id": "15bd8146",
   "metadata": {},
   "outputs": [
    {
     "data": {
      "text/plain": [
       "Text(0, 0.5, 'Probability')"
      ]
     },
     "execution_count": 32,
     "metadata": {},
     "output_type": "execute_result"
    },
    {
     "data": {
      "image/png": "[encoded data removed]",
      "text/plain": [
       "<Figure size 432x288 with 1 Axes>"
      ]
     },
     "metadata": {
      "needs_background": "light"
     },
     "output_type": "display_data"
    }
   ],
   "source": [
    "import matplotlib.pyplot as plt\n",
    "\n",
    "plt.title(\"Probability of at least two people sharing a birthday\")\n",
    "plt.plot(x, y)\n",
    "plt.xlabel(\"Number of people in the room\")\n",
    "plt.ylabel(\"Probability\")"
   ]
  },
  {
   "cell_type": "code",
   "execution_count": null,
   "id": "32f89908",
   "metadata": {},
   "outputs": [],
   "source": []
  }
 ],
 "metadata": {
  "kernelspec": {
   "display_name": "Python 3 (ipykernel)",
   "language": "python",
   "name": "python3"
  },
  "language_info": {
   "codemirror_mode": {
    "name": "ipython",
    "version": 3
   },
   "file_extension": ".py",
   "mimetype": "text/x-python",
   "name": "python",
   "nbconvert_exporter": "python",
   "pygments_lexer": "ipython3",
   "version": "3.8.12"
  }
 },
 "nbformat": 4,
 "nbformat_minor": 5
}
